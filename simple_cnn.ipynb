{
  "nbformat": 4,
  "nbformat_minor": 0,
  "metadata": {
    "colab": {
      "name": "simple cnn.ipynb",
      "provenance": [],
      "collapsed_sections": [],
      "authorship_tag": "ABX9TyNvzSealgCxuGqVuM0HJs+W",
      "include_colab_link": true
    },
    "kernelspec": {
      "name": "python3",
      "display_name": "Python 3"
    }
  },
  "cells": [
    {
      "cell_type": "markdown",
      "metadata": {
        "id": "view-in-github",
        "colab_type": "text"
      },
      "source": [
        "<a href=\"https://colab.research.google.com/github/vishnudas-1212/machine-learning-easy-algo/blob/main/simple_cnn.ipynb\" target=\"_parent\"><img src=\"https://colab.research.google.com/assets/colab-badge.svg\" alt=\"Open In Colab\"/></a>"
      ]
    },
    {
      "cell_type": "code",
      "metadata": {
        "id": "l5aL8qwfN1bG"
      },
      "source": [
        "# example of vertical line filter with a stride of 2\r\n",
        "from numpy import asarray\r\n",
        "from keras.models import Sequential\r\n",
        "from keras.layers import Conv2D"
      ],
      "execution_count": 132,
      "outputs": []
    },
    {
      "cell_type": "code",
      "metadata": {
        "id": "7QyPqA-7OL-7"
      },
      "source": [
        "#define input data\r\n",
        "data=[[0,0,0,1,1,0,0,0],\r\n",
        "      [0,0,0,1,1,0,0,0],\r\n",
        "      [0,0,0,1,1,0,0,0],\r\n",
        "      [0,0,0,1,1,0,0,0],\r\n",
        "      [0,0,0,1,1,0,0,0],\r\n",
        "      [0,0,0,1,1,0,0,0],\r\n",
        "      [0,0,0,1,1,0,0,0],\r\n",
        "      [0,0,0,1,1,0,0,0]]"
      ],
      "execution_count": 133,
      "outputs": []
    },
    {
      "cell_type": "code",
      "metadata": {
        "id": "-ym4eT4FOcbZ"
      },
      "source": [
        "data=asarray(data)"
      ],
      "execution_count": 134,
      "outputs": []
    },
    {
      "cell_type": "code",
      "metadata": {
        "id": "rEnRN30ZOgbA"
      },
      "source": [
        "data=data.reshape(1,8,8,1) # ist 1 is batch and 2nd 1 is channel and 8 ,8 is 8*8 matrix"
      ],
      "execution_count": 135,
      "outputs": []
    },
    {
      "cell_type": "code",
      "metadata": {
        "id": "qmq6D4h5OoVH"
      },
      "source": [
        "#create model\r\n",
        "model=Sequential()"
      ],
      "execution_count": 136,
      "outputs": []
    },
    {
      "cell_type": "code",
      "metadata": {
        "id": "A6Gln6LhPIIZ"
      },
      "source": [
        "model.add(Conv2D(1,(3,3),strides=(2,2),padding='same',input_shape=(8,8,1)))  #striding 2,2 means the execution starts from 2ndrow and 2nd column"
      ],
      "execution_count": 157,
      "outputs": []
    },
    {
      "cell_type": "code",
      "metadata": {
        "colab": {
          "base_uri": "https://localhost:8080/"
        },
        "id": "HvoNMPYVPX8E",
        "outputId": "2442605d-f44d-4221-a6d3-b6bfcb9d621a"
      },
      "source": [
        "#summarize model\r\n",
        "model.summary"
      ],
      "execution_count": 138,
      "outputs": [
        {
          "output_type": "stream",
          "text": [
            "Model: \"sequential_16\"\n",
            "_________________________________________________________________\n",
            "Layer (type)                 Output Shape              Param #   \n",
            "=================================================================\n",
            "conv2d_31 (Conv2D)           (None, 4, 4, 1)           10        \n",
            "=================================================================\n",
            "Total params: 10\n",
            "Trainable params: 10\n",
            "Non-trainable params: 0\n",
            "_________________________________________________________________\n"
          ],
          "name": "stdout"
        }
      ]
    },
    {
      "cell_type": "code",
      "metadata": {
        "id": "uc6zTJZvPm9i"
      },
      "source": [
        "#define a vertical line detector\r\n",
        "\r\n",
        "detector=[[[[0]],[[1]],[[0]]],\r\n",
        "          [[[0]],[[1]],[[0]]],\r\n",
        "          [[[0]],[[1]],[[0]]]]"
      ],
      "execution_count": 139,
      "outputs": []
    },
    {
      "cell_type": "code",
      "metadata": {
        "id": "Q0tR8keYQFi8"
      },
      "source": [
        "weights=[asarray(detector),asarray([0.0])]"
      ],
      "execution_count": 140,
      "outputs": []
    },
    {
      "cell_type": "code",
      "metadata": {
        "id": "7t8m15s-QOwb"
      },
      "source": [
        "#store the weights in the model\r\n",
        "\r\n",
        "model.set_weights(weights)"
      ],
      "execution_count": 141,
      "outputs": []
    },
    {
      "cell_type": "code",
      "metadata": {
        "colab": {
          "base_uri": "https://localhost:8080/"
        },
        "id": "jT8bSPfrQV_Y",
        "outputId": "c64bb874-cace-4b21-d00e-c900800585c4"
      },
      "source": [
        "#apply filter to input data\r\n",
        "yhat=model.predict(data)"
      ],
      "execution_count": 142,
      "outputs": [
        {
          "output_type": "stream",
          "text": [
            "WARNING:tensorflow:8 out of the last 8 calls to <function Model.make_predict_function.<locals>.predict_function at 0x7f00173abbf8> triggered tf.function retracing. Tracing is expensive and the excessive number of tracings could be due to (1) creating @tf.function repeatedly in a loop, (2) passing tensors with different shapes, (3) passing Python objects instead of tensors. For (1), please define your @tf.function outside of the loop. For (2), @tf.function has experimental_relax_shapes=True option that relaxes argument shapes that can avoid unnecessary retracing. For (3), please refer to https://www.tensorflow.org/guide/function#controlling_retracing and https://www.tensorflow.org/api_docs/python/tf/function for  more details.\n"
          ],
          "name": "stdout"
        }
      ]
    },
    {
      "cell_type": "code",
      "metadata": {
        "colab": {
          "base_uri": "https://localhost:8080/"
        },
        "id": "gmAtbaDtQ4xJ",
        "outputId": "22f2e5c0-b714-4569-a607-aa27eb327061"
      },
      "source": [
        "#enumerate rows\r\n",
        "for r in range(yhat.shape[1]): #represent no of rows\r\n",
        "  #print each column in the row\r\n",
        "  print([yhat[0,r,c,0] for c in range(yhat.shape[2])]) #shape[2] represents no of columns"
      ],
      "execution_count": 143,
      "outputs": [
        {
          "output_type": "stream",
          "text": [
            "[0.0, 3.0, 0.0, 0.0]\n",
            "[0.0, 3.0, 0.0, 0.0]\n",
            "[0.0, 3.0, 0.0, 0.0]\n",
            "[0.0, 2.0, 0.0, 0.0]\n"
          ],
          "name": "stdout"
        }
      ]
    },
    {
      "cell_type": "code",
      "metadata": {
        "colab": {
          "base_uri": "https://localhost:8080/"
        },
        "id": "fYEtjB5efywk",
        "outputId": "dfce05c4-43d5-4d4e-8916-d19ec9d2d576"
      },
      "source": [
        "yhat.shape"
      ],
      "execution_count": 158,
      "outputs": [
        {
          "output_type": "execute_result",
          "data": {
            "text/plain": [
              "(1, 2, 2, 1)"
            ]
          },
          "metadata": {
            "tags": []
          },
          "execution_count": 158
        }
      ]
    },
    {
      "cell_type": "code",
      "metadata": {
        "id": "61u0cs_LS5Sw"
      },
      "source": [
        "#adding one more convoluted \r\n",
        "model=Sequential()\r\n",
        "model.add((Conv2D(1,(3,3),input_shape=(8,8,1))))\r\n",
        "model.add(Conv2D(1,(3,3)))\r\n",
        "model.add(Conv2D(1,(3,3)))\r\n"
      ],
      "execution_count": 149,
      "outputs": []
    },
    {
      "cell_type": "code",
      "metadata": {
        "colab": {
          "base_uri": "https://localhost:8080/"
        },
        "id": "wG40bqSYUnXL",
        "outputId": "823ce0d5-2ae8-4c85-b7fb-346015f4ee09"
      },
      "source": [
        "model.summary()"
      ],
      "execution_count": 150,
      "outputs": [
        {
          "output_type": "stream",
          "text": [
            "Model: \"sequential_18\"\n",
            "_________________________________________________________________\n",
            "Layer (type)                 Output Shape              Param #   \n",
            "=================================================================\n",
            "conv2d_34 (Conv2D)           (None, 6, 6, 1)           10        \n",
            "_________________________________________________________________\n",
            "conv2d_35 (Conv2D)           (None, 4, 4, 1)           10        \n",
            "_________________________________________________________________\n",
            "conv2d_36 (Conv2D)           (None, 2, 2, 1)           10        \n",
            "=================================================================\n",
            "Total params: 30\n",
            "Trainable params: 30\n",
            "Non-trainable params: 0\n",
            "_________________________________________________________________\n"
          ],
          "name": "stdout"
        }
      ]
    },
    {
      "cell_type": "code",
      "metadata": {
        "id": "NVrs29uUVYhC"
      },
      "source": [
        "#define a vertical line detector\r\n",
        "\r\n",
        "detector=[[[[0]],[[1]],[[0]]],\r\n",
        "          [[[0]],[[1]],[[0]]],\r\n",
        "          [[[0]],[[1]],[[0]]]]"
      ],
      "execution_count": 151,
      "outputs": []
    },
    {
      "cell_type": "code",
      "metadata": {
        "id": "TSyyl91GV8qD"
      },
      "source": [
        "weights=[asarray(detector),asarray([0.0])]"
      ],
      "execution_count": 152,
      "outputs": []
    },
    {
      "cell_type": "code",
      "metadata": {
        "colab": {
          "base_uri": "https://localhost:8080/",
          "height": 443
        },
        "id": "ZY1Ak4SMWAuj",
        "outputId": "96d0ccfd-d7a3-4e84-c63b-7d6b44ddccb7"
      },
      "source": [
        "#store the weights in the model\r\n",
        "\r\n",
        "model.set_weights(weights)"
      ],
      "execution_count": 153,
      "outputs": [
        {
          "output_type": "error",
          "ename": "ValueError",
          "evalue": "ignored",
          "traceback": [
            "\u001b[0;31m---------------------------------------------------------------------------\u001b[0m",
            "\u001b[0;31mValueError\u001b[0m                                Traceback (most recent call last)",
            "\u001b[0;32m<ipython-input-153-ac976a37afdc>\u001b[0m in \u001b[0;36m<module>\u001b[0;34m()\u001b[0m\n\u001b[1;32m      1\u001b[0m \u001b[0;31m#store the weights in the model\u001b[0m\u001b[0;34m\u001b[0m\u001b[0;34m\u001b[0m\u001b[0;34m\u001b[0m\u001b[0m\n\u001b[1;32m      2\u001b[0m \u001b[0;34m\u001b[0m\u001b[0m\n\u001b[0;32m----> 3\u001b[0;31m \u001b[0mmodel\u001b[0m\u001b[0;34m.\u001b[0m\u001b[0mset_weights\u001b[0m\u001b[0;34m(\u001b[0m\u001b[0mweights\u001b[0m\u001b[0;34m)\u001b[0m\u001b[0;34m\u001b[0m\u001b[0;34m\u001b[0m\u001b[0m\n\u001b[0m",
            "\u001b[0;32m/usr/local/lib/python3.6/dist-packages/tensorflow/python/keras/engine/base_layer.py\u001b[0m in \u001b[0;36mset_weights\u001b[0;34m(self, weights)\u001b[0m\n\u001b[1;32m   1855\u001b[0m           \u001b[0;34m'with a weight list of length %s, but the layer was '\u001b[0m\u001b[0;34m\u001b[0m\u001b[0;34m\u001b[0m\u001b[0m\n\u001b[1;32m   1856\u001b[0m           \u001b[0;34m'expecting %s weights. Provided weights: %s...'\u001b[0m \u001b[0;34m%\u001b[0m\u001b[0;34m\u001b[0m\u001b[0;34m\u001b[0m\u001b[0m\n\u001b[0;32m-> 1857\u001b[0;31m           (self.name, len(weights), expected_num_weights, str(weights)[:50]))\n\u001b[0m\u001b[1;32m   1858\u001b[0m \u001b[0;34m\u001b[0m\u001b[0m\n\u001b[1;32m   1859\u001b[0m     \u001b[0mweight_index\u001b[0m \u001b[0;34m=\u001b[0m \u001b[0;36m0\u001b[0m\u001b[0;34m\u001b[0m\u001b[0;34m\u001b[0m\u001b[0m\n",
            "\u001b[0;31mValueError\u001b[0m: You called `set_weights(weights)` on layer \"sequential_18\" with a weight list of length 2, but the layer was expecting 6 weights. Provided weights: [array([[[[0]],\n\n        [[1]],\n\n        [[0]]],\n\n..."
          ]
        }
      ]
    },
    {
      "cell_type": "code",
      "metadata": {
        "colab": {
          "base_uri": "https://localhost:8080/"
        },
        "id": "904DHtjUXeG6",
        "outputId": "912c3cfc-5b63-486f-94c1-1a2b4fcceaca"
      },
      "source": [
        "#apply filter to input data\r\n",
        "yhat=model.predict(data)"
      ],
      "execution_count": 154,
      "outputs": [
        {
          "output_type": "stream",
          "text": [
            "WARNING:tensorflow:9 out of the last 9 calls to <function Model.make_predict_function.<locals>.predict_function at 0x7f00173f9840> triggered tf.function retracing. Tracing is expensive and the excessive number of tracings could be due to (1) creating @tf.function repeatedly in a loop, (2) passing tensors with different shapes, (3) passing Python objects instead of tensors. For (1), please define your @tf.function outside of the loop. For (2), @tf.function has experimental_relax_shapes=True option that relaxes argument shapes that can avoid unnecessary retracing. For (3), please refer to https://www.tensorflow.org/guide/function#controlling_retracing and https://www.tensorflow.org/api_docs/python/tf/function for  more details.\n"
          ],
          "name": "stdout"
        }
      ]
    },
    {
      "cell_type": "markdown",
      "metadata": {
        "id": "FhM1QuHqWDys"
      },
      "source": [
        ""
      ]
    },
    {
      "cell_type": "code",
      "metadata": {
        "colab": {
          "base_uri": "https://localhost:8080/"
        },
        "id": "o8iKbuxUXgnL",
        "outputId": "c5ac4476-c6f3-43af-cc87-b983f3f62178"
      },
      "source": [
        "for r in range(yhat.shape[1]):\r\n",
        "  #print each column in the row\r\n",
        "  print([yhat[0,r,c,0] for c in range(yhat.shape[2])])"
      ],
      "execution_count": 155,
      "outputs": [
        {
          "output_type": "stream",
          "text": [
            "[-0.43079606, -0.36752263]\n",
            "[-0.43079606, -0.36752263]\n"
          ],
          "name": "stdout"
        }
      ]
    },
    {
      "cell_type": "code",
      "metadata": {
        "colab": {
          "base_uri": "https://localhost:8080/"
        },
        "id": "7nbbS5DeXdBA",
        "outputId": "e7deffb7-d90d-463d-db45-047c590252f6"
      },
      "source": [
        "for r in range(yhat.shape[1]):\r\n",
        "  print(r)"
      ],
      "execution_count": 160,
      "outputs": [
        {
          "output_type": "stream",
          "text": [
            "0\n",
            "1\n"
          ],
          "name": "stdout"
        }
      ]
    },
    {
      "cell_type": "code",
      "metadata": {
        "id": "oQFbkHByWa3Y"
      },
      "source": [
        ""
      ],
      "execution_count": null,
      "outputs": []
    }
  ]
}