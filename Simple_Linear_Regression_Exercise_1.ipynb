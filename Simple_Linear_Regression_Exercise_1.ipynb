{
  "nbformat": 4,
  "nbformat_minor": 0,
  "metadata": {
    "kernelspec": {
      "display_name": "Python 3",
      "language": "python",
      "name": "python3"
    },
    "language_info": {
      "codemirror_mode": {
        "name": "ipython",
        "version": 3
      },
      "file_extension": ".py",
      "mimetype": "text/x-python",
      "name": "python",
      "nbconvert_exporter": "python",
      "pygments_lexer": "ipython3",
      "version": "3.8.3"
    },
    "colab": {
      "name": "Simple Linear Regression Exercise_1.ipynb",
      "provenance": [],
      "collapsed_sections": [],
      "toc_visible": true,
      "include_colab_link": true
    }
  },
  "cells": [
    {
      "cell_type": "markdown",
      "metadata": {
        "id": "view-in-github",
        "colab_type": "text"
      },
      "source": [
        "<a href=\"https://colab.research.google.com/github/vishnudas-1212/machine-learning/blob/main/Simple_Linear_Regression_Exercise_1.ipynb\" target=\"_parent\"><img src=\"https://colab.research.google.com/assets/colab-badge.svg\" alt=\"Open In Colab\"/></a>"
      ]
    },
    {
      "cell_type": "markdown",
      "metadata": {
        "id": "Y9aoK54DvlZf"
      },
      "source": [
        "# Simple linear regression - exercise"
      ]
    },
    {
      "cell_type": "markdown",
      "metadata": {
        "id": "E9kQRr2JvlZv"
      },
      "source": [
        "You are given a real estate dataset. \n",
        "\n",
        "\n",
        "\n",
        "The data is located in the file: 'real_estate_price_size.csv'. \n",
        "\n",
        "You are expected to create a simple linear regression (similar to the one in the lecture), using the new data. \n",
        "\n",
        "Apart from that, please:\n",
        "-  Create a scatter plot (with or without a regression line)\n",
        "-  Calculate the R-squared\n",
        "-  Display the intercept and coefficient(s)\n",
        "-  Using the model make a prediction about an apartment with size 750 sq.ft.\n",
        "\n",
        "Note: In this exercise, the dependent variable is 'price', while the independent variable is 'size'.\n",
        "\n",
        "Good luck!"
      ]
    },
    {
      "cell_type": "markdown",
      "metadata": {
        "id": "-rvDt2fevlZy"
      },
      "source": [
        "## Import the relevant libraries"
      ]
    },
    {
      "cell_type": "code",
      "metadata": {
        "id": "liigAaiMvlZ1"
      },
      "source": [
        "import numpy as np\r\n",
        "import pandas as pd\r\n",
        "import matplotlib.pyplot as plt"
      ],
      "execution_count": 2,
      "outputs": []
    },
    {
      "cell_type": "markdown",
      "metadata": {
        "id": "U-s2imJPvlaI"
      },
      "source": [
        "## Load the data"
      ]
    },
    {
      "cell_type": "code",
      "metadata": {
        "id": "0WwL1u9vvlaK"
      },
      "source": [
        "df=pd.read_csv('/content/real_estate_price_size_year.csv')"
      ],
      "execution_count": 3,
      "outputs": []
    },
    {
      "cell_type": "markdown",
      "metadata": {
        "id": "Jbk9hjIjvlaY"
      },
      "source": [
        "# Declare the dependent and the independent variables"
      ]
    },
    {
      "cell_type": "code",
      "metadata": {
        "id": "3z7hyO5nvlaa",
        "colab": {
          "base_uri": "https://localhost:8080/",
          "height": 408
        },
        "outputId": "35a9bb03-5b73-4727-ea07-680c5b33ed62"
      },
      "source": [
        "x=df[['size']]\r\n",
        "y=df[['price']]\r\n"
      ],
      "execution_count": 48,
      "outputs": [
        {
          "output_type": "execute_result",
          "data": {
            "text/html": [
              "<div>\n",
              "<style scoped>\n",
              "    .dataframe tbody tr th:only-of-type {\n",
              "        vertical-align: middle;\n",
              "    }\n",
              "\n",
              "    .dataframe tbody tr th {\n",
              "        vertical-align: top;\n",
              "    }\n",
              "\n",
              "    .dataframe thead th {\n",
              "        text-align: right;\n",
              "    }\n",
              "</style>\n",
              "<table border=\"1\" class=\"dataframe\">\n",
              "  <thead>\n",
              "    <tr style=\"text-align: right;\">\n",
              "      <th></th>\n",
              "      <th>price</th>\n",
              "    </tr>\n",
              "  </thead>\n",
              "  <tbody>\n",
              "    <tr>\n",
              "      <th>0</th>\n",
              "      <td>234314.144</td>\n",
              "    </tr>\n",
              "    <tr>\n",
              "      <th>1</th>\n",
              "      <td>228581.528</td>\n",
              "    </tr>\n",
              "    <tr>\n",
              "      <th>2</th>\n",
              "      <td>281626.336</td>\n",
              "    </tr>\n",
              "    <tr>\n",
              "      <th>3</th>\n",
              "      <td>401255.608</td>\n",
              "    </tr>\n",
              "    <tr>\n",
              "      <th>4</th>\n",
              "      <td>458674.256</td>\n",
              "    </tr>\n",
              "    <tr>\n",
              "      <th>...</th>\n",
              "      <td>...</td>\n",
              "    </tr>\n",
              "    <tr>\n",
              "      <th>95</th>\n",
              "      <td>252460.400</td>\n",
              "    </tr>\n",
              "    <tr>\n",
              "      <th>96</th>\n",
              "      <td>310522.592</td>\n",
              "    </tr>\n",
              "    <tr>\n",
              "      <th>97</th>\n",
              "      <td>383635.568</td>\n",
              "    </tr>\n",
              "    <tr>\n",
              "      <th>98</th>\n",
              "      <td>225145.248</td>\n",
              "    </tr>\n",
              "    <tr>\n",
              "      <th>99</th>\n",
              "      <td>274922.856</td>\n",
              "    </tr>\n",
              "  </tbody>\n",
              "</table>\n",
              "<p>100 rows × 1 columns</p>\n",
              "</div>"
            ],
            "text/plain": [
              "         price\n",
              "0   234314.144\n",
              "1   228581.528\n",
              "2   281626.336\n",
              "3   401255.608\n",
              "4   458674.256\n",
              "..         ...\n",
              "95  252460.400\n",
              "96  310522.592\n",
              "97  383635.568\n",
              "98  225145.248\n",
              "99  274922.856\n",
              "\n",
              "[100 rows x 1 columns]"
            ]
          },
          "metadata": {
            "tags": []
          },
          "execution_count": 48
        }
      ]
    },
    {
      "cell_type": "markdown",
      "metadata": {
        "id": "7PNIaXxdvlaj"
      },
      "source": [
        "### Explore the data"
      ]
    },
    {
      "cell_type": "code",
      "metadata": {
        "id": "ueu6bUgSvlak",
        "colab": {
          "base_uri": "https://localhost:8080/",
          "height": 312
        },
        "outputId": "ea6dea64-7e4d-4679-c3fe-07f58c8ffdbd"
      },
      "source": [
        "plt.scatter(x,y)\r\n",
        "plt.xlabel('size')\r\n",
        "plt.ylabel('price')\r\n",
        "plt.title('real estate')"
      ],
      "execution_count": 52,
      "outputs": [
        {
          "output_type": "execute_result",
          "data": {
            "text/plain": [
              "Text(0.5, 1.0, 'real estate')"
            ]
          },
          "metadata": {
            "tags": []
          },
          "execution_count": 52
        },
        {
          "output_type": "display_data",
          "data": {
            "image/png": "[encoded data removed]",
            "text/plain": [
              "<Figure size 432x288 with 1 Axes>"
            ]
          },
          "metadata": {
            "tags": [],
            "needs_background": "light"
          }
        }
      ]
    },
    {
      "cell_type": "markdown",
      "metadata": {
        "id": "QN-5nxwCvlas"
      },
      "source": [
        "### Build the model"
      ]
    },
    {
      "cell_type": "code",
      "metadata": {
        "id": "k9RbRPL6vlau",
        "colab": {
          "base_uri": "https://localhost:8080/"
        },
        "outputId": "3facf358-4b1c-405c-ff5f-b6b3ccaf7332"
      },
      "source": [
        "from sklearn.linear_model import LinearRegression\r\n",
        "model=LinearRegression()\r\n",
        "model.fit(x,y)\r\n",
        "y_pred=model.predict((x))\r\n",
        "\r\n",
        "a=model.intercept_\r\n",
        "\r\n",
        "b=model.coef_\r\n",
        "\r\n",
        "yhat=a+b*x\r\n",
        "\r\n",
        "a"
      ],
      "execution_count": 76,
      "outputs": [
        {
          "output_type": "execute_result",
          "data": {
            "text/plain": [
              "array([101912.60180123])"
            ]
          },
          "metadata": {
            "tags": []
          },
          "execution_count": 76
        }
      ]
    },
    {
      "cell_type": "markdown",
      "metadata": {
        "id": "uCHLe9Xdvlaz"
      },
      "source": [
        "### Plot the regression line on the initial scatter"
      ]
    },
    {
      "cell_type": "code",
      "metadata": {
        "id": "a7gZ5tQJvla0",
        "colab": {
          "base_uri": "https://localhost:8080/",
          "height": 312
        },
        "outputId": "7c608c40-8452-496f-d24e-ba44b8543fe4"
      },
      "source": [
        "plt.scatter(x,y)\r\n",
        "\r\n",
        "plt.plot(x,yhat,c='r')\r\n",
        "plt.xlabel('size')\r\n",
        "plt.ylabel('price')\r\n",
        "plt.title('real estate')"
      ],
      "execution_count": 94,
      "outputs": [
        {
          "output_type": "execute_result",
          "data": {
            "text/plain": [
              "Text(0.5, 1.0, 'real estate')"
            ]
          },
          "metadata": {
            "tags": []
          },
          "execution_count": 94
        },
        {
          "output_type": "display_data",
          "data": {
            "image/png": "[encoded data removed]",
            "text/plain": [
              "<Figure size 432x288 with 1 Axes>"
            ]
          },
          "metadata": {
            "tags": [],
            "needs_background": "light"
          }
        }
      ]
    },
    {
      "cell_type": "markdown",
      "metadata": {
        "id": "QyBhn0_uvla9"
      },
      "source": [
        "# calculate the R -squared, MSE , MAE"
      ]
    },
    {
      "cell_type": "code",
      "metadata": {
        "id": "mXiORPbuvla_",
        "colab": {
          "base_uri": "https://localhost:8080/"
        },
        "outputId": "d5cd4b7e-031a-46ba-bcbe-3b8377eb66b6"
      },
      "source": [
        "from sklearn.metrics import mean_absolute_error,mean_squared_error,r2_score\r\n",
        "\r\n",
        "mse=mean_squared_error(y,y_pred)\r\n",
        "mae=mean_absolute_error(y,y_pred)\r\n",
        "rscore=r2_score(y,yhat)\r\n",
        "\r\n",
        "print('mse=',mse)\r\n",
        "print('mae=',mae)\r\n",
        "print('r2score=',rscore)"
      ],
      "execution_count": 67,
      "outputs": [
        {
          "output_type": "stream",
          "text": [
            "mse= 1500320708.6628911\n",
            "mae= 32618.008667518712\n",
            "r2score= 0.7447391865847586\n"
          ],
          "name": "stdout"
        }
      ]
    },
    {
      "cell_type": "markdown",
      "metadata": {
        "id": "c_fO_J2DvlbF"
      },
      "source": [
        "## find the coefficient"
      ]
    },
    {
      "cell_type": "code",
      "metadata": {
        "id": "lROcBWCOvlbG",
        "colab": {
          "base_uri": "https://localhost:8080/"
        },
        "outputId": "db315f41-78ac-47c5-d706-7be8d9ff80c3"
      },
      "source": [
        "b[0][0]"
      ],
      "execution_count": 85,
      "outputs": [
        {
          "output_type": "execute_result",
          "data": {
            "text/plain": [
              "223.17874259460754"
            ]
          },
          "metadata": {
            "tags": []
          },
          "execution_count": 85
        }
      ]
    },
    {
      "cell_type": "markdown",
      "metadata": {
        "id": "9xkMRpNIvlbM"
      },
      "source": [
        "### Making predictions\n",
        "\n",
        "You find an apartment online with a size of 750 sq.ft.\n",
        "\n",
        "All else equal what should be its price according to the model?"
      ]
    },
    {
      "cell_type": "code",
      "metadata": {
        "id": "SQdTrydBvlbM",
        "colab": {
          "base_uri": "https://localhost:8080/"
        },
        "outputId": "e6cacc9a-91cb-4355-f2d4-776ac9129d51"
      },
      "source": [
        "model.predict([[750]])"
      ],
      "execution_count": 33,
      "outputs": [
        {
          "output_type": "execute_result",
          "data": {
            "text/plain": [
              "array([[269296.65874718]])"
            ]
          },
          "metadata": {
            "tags": []
          },
          "execution_count": 33
        }
      ]
    },
    {
      "cell_type": "code",
      "metadata": {
        "id": "0q2qAdkgOrOK"
      },
      "source": [
        ""
      ],
      "execution_count": null,
      "outputs": []
    },
    {
      "cell_type": "markdown",
      "metadata": {
        "id": "bg51zSOZQ9tv"
      },
      "source": [
        "MULTIPLE LINEAR REGRESSION\r\n"
      ]
    },
    {
      "cell_type": "code",
      "metadata": {
        "colab": {
          "base_uri": "https://localhost:8080/"
        },
        "id": "_egRnTOuRAP9",
        "outputId": "62797fa0-dcc7-49a4-fa9c-eb195e15b60e"
      },
      "source": [
        "X=df[['size','year']]\r\n",
        "Y=df.iloc[:,0]\r\n",
        "Y"
      ],
      "execution_count": 59,
      "outputs": [
        {
          "output_type": "execute_result",
          "data": {
            "text/plain": [
              "0     234314.144\n",
              "1     228581.528\n",
              "2     281626.336\n",
              "3     401255.608\n",
              "4     458674.256\n",
              "         ...    \n",
              "95    252460.400\n",
              "96    310522.592\n",
              "97    383635.568\n",
              "98    225145.248\n",
              "99    274922.856\n",
              "Name: price, Length: 100, dtype: float64"
            ]
          },
          "metadata": {
            "tags": []
          },
          "execution_count": 59
        }
      ]
    },
    {
      "cell_type": "code",
      "metadata": {
        "id": "LHbe3Uh1RPlT"
      },
      "source": [
        "from sklearn.linear_model import LinearRegression"
      ],
      "execution_count": 56,
      "outputs": []
    },
    {
      "cell_type": "code",
      "metadata": {
        "id": "rYT2fV3IRSgo"
      },
      "source": [
        "lmodel=LinearRegression()"
      ],
      "execution_count": 78,
      "outputs": []
    },
    {
      "cell_type": "code",
      "metadata": {
        "colab": {
          "base_uri": "https://localhost:8080/"
        },
        "id": "shtG7M6FRtks",
        "outputId": "b4ab15dc-25da-4a3f-a179-f690c9ff6d71"
      },
      "source": [
        "lmodel.fit(X,Y)"
      ],
      "execution_count": 79,
      "outputs": [
        {
          "output_type": "execute_result",
          "data": {
            "text/plain": [
              "LinearRegression(copy_X=True, fit_intercept=True, n_jobs=None, normalize=False)"
            ]
          },
          "metadata": {
            "tags": []
          },
          "execution_count": 79
        }
      ]
    },
    {
      "cell_type": "code",
      "metadata": {
        "id": "GXw7U951Rv54"
      },
      "source": [
        "Y_pred=model.predict(X)"
      ],
      "execution_count": 63,
      "outputs": []
    },
    {
      "cell_type": "code",
      "metadata": {
        "colab": {
          "base_uri": "https://localhost:8080/"
        },
        "id": "3sf-VhAzSCcN",
        "outputId": "3585b029-df10-4b5b-c999-5f981608a33e"
      },
      "source": [
        "s=model.intercept_\r\n",
        "p=model.coef_\r\n"
      ],
      "execution_count": 75,
      "outputs": [
        {
          "output_type": "execute_result",
          "data": {
            "text/plain": [
              "-5772267.017463278"
            ]
          },
          "metadata": {
            "tags": []
          },
          "execution_count": 75
        }
      ]
    },
    {
      "cell_type": "code",
      "metadata": {
        "id": "_kWoRKn0SN0y"
      },
      "source": [
        "Yhat=s+p*X"
      ],
      "execution_count": 66,
      "outputs": []
    },
    {
      "cell_type": "code",
      "metadata": {
        "colab": {
          "base_uri": "https://localhost:8080/"
        },
        "id": "HsZ3HSpjSRwr",
        "outputId": "7bf17736-1c00-45f7-dbcb-d4ff33b71897"
      },
      "source": [
        "from sklearn.metrics import mean_absolute_error,mean_squared_error,r2_score\r\n",
        "\r\n",
        "mse=mean_squared_error(Y,Y_pred)\r\n",
        "mae=mean_absolute_error(Y,Y_pred)\r\n",
        "rscore=r2_score(y,yhat)\r\n",
        "\r\n",
        "print('mse=',mse)\r\n",
        "print('mae=',mae)\r\n",
        "print('r2score=',rscore)"
      ],
      "execution_count": 70,
      "outputs": [
        {
          "output_type": "stream",
          "text": [
            "mse= 1313758769.7221563\n",
            "mae= 31047.402766986223\n",
            "r2score= 0.7447391865847586\n"
          ],
          "name": "stdout"
        }
      ]
    },
    {
      "cell_type": "code",
      "metadata": {
        "colab": {
          "base_uri": "https://localhost:8080/"
        },
        "id": "hEHyAEkJSx5A",
        "outputId": "6b9ccb49-2b4a-445c-d03c-4eadbbdc56a6"
      },
      "source": [
        "p"
      ],
      "execution_count": 90,
      "outputs": [
        {
          "output_type": "execute_result",
          "data": {
            "text/plain": [
              "array([ 227.70085401, 2916.78532684])"
            ]
          },
          "metadata": {
            "tags": []
          },
          "execution_count": 90
        }
      ]
    },
    {
      "cell_type": "code",
      "metadata": {
        "colab": {
          "base_uri": "https://localhost:8080/"
        },
        "id": "vlSIIGkFTBWK",
        "outputId": "d6bdc26a-756b-433e-97ea-3cd79fa8e65e"
      },
      "source": [
        "lmodel.predict([[750,2013]])"
      ],
      "execution_count": 84,
      "outputs": [
        {
          "output_type": "execute_result",
          "data": {
            "text/plain": [
              "array([269997.4859673])"
            ]
          },
          "metadata": {
            "tags": []
          },
          "execution_count": 84
        }
      ]
    },
    {
      "cell_type": "code",
      "metadata": {
        "id": "_-9_Sj3uixgj"
      },
      "source": [
        ""
      ],
      "execution_count": null,
      "outputs": []
    }
  ]
}